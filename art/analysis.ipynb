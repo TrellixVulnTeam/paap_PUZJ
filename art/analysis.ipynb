{
 "metadata": {
  "language_info": {
   "codemirror_mode": {
    "name": "ipython",
    "version": 3
   },
   "file_extension": ".py",
   "mimetype": "text/x-python",
   "name": "python",
   "nbconvert_exporter": "python",
   "pygments_lexer": "ipython3",
   "version": "3.7.8-final"
  },
  "orig_nbformat": 2,
  "kernelspec": {
   "name": "python37864bitpaapvenv0ea1eb7480604b1e995981cc76f6a1df",
   "display_name": "Python 3.7.8 64-bit ('paap': venv)"
  }
 },
 "nbformat": 4,
 "nbformat_minor": 2,
 "cells": [
  {
   "cell_type": "markdown",
   "metadata": {},
   "source": [
    "# Analysis\n",
    "\n",
    "* Enter - edit\n",
    "* M - switch to markdown\n",
    "* Y - switch to code\n",
    "* ctrl-enter - run cell\n",
    "* A - add above\n",
    "* B - add below\n",
    "\n",
    "Shared functions for analysis"
   ]
  },
  {
   "cell_type": "code",
   "execution_count": 40,
   "metadata": {},
   "outputs": [],
   "source": [
    "import re\n",
    "import os\n",
    "\n",
    "import pandas as pd\n",
    "import numpy as np\n",
    "\n",
    "pd.set_option(\"display.max_rows\", 20)\n",
    "\n",
    "# constants\n",
    "ALL_OUTPUT = \"/home/dubs/dev/paap/data/output/calculate_modern_price_output.json\"\n",
    "PHOTOS_AND_PRINTS = \"/home/dubs/dev/paap/data/output/photos_and_prints_only.json\"\n",
    "IMAGE_SIZES = \"/home/dubs/dev/paap/data/output/image_dimensions_output.ndjson\"\n",
    "IMAGE_DIR = \"/home/dubs/dev/paap/data/img/christies/s128/all\""
   ]
  },
  {
   "cell_type": "code",
   "execution_count": 41,
   "metadata": {},
   "outputs": [],
   "source": [
    "df_all = pd.read_json(ALL_OUTPUT, orient=\"records\")"
   ]
  },
  {
   "cell_type": "code",
   "execution_count": 42,
   "metadata": {},
   "outputs": [],
   "source": [
    "image_sizes = pd.read_json(IMAGE_SIZES, orient=\"records\", lines=True)"
   ]
  },
  {
   "cell_type": "code",
   "execution_count": 43,
   "metadata": {},
   "outputs": [
    {
     "output_type": "execute_result",
     "data": {
      "text/plain": "(259596, 26)"
     },
     "metadata": {},
     "execution_count": 43
    }
   ],
   "source": [
    " df_all.shape\n",
    " image_sizes.shape\n",
    " df = pd.merge(df_all, image_sizes, on=\"lot_image_id\", how=\"left\")\n",
    " df.shape"
   ]
  },
  {
   "cell_type": "code",
   "execution_count": 44,
   "metadata": {
    "tags": []
   },
   "outputs": [
    {
     "output_type": "stream",
     "name": "stdout",
     "text": "(259596, 24)\n(360175, 3)\n(259596, 26)\n"
    }
   ],
   "source": [
    "print(df_all.shape)\n",
    "print(image_sizes.shape)\n",
    "print(df.shape)"
   ]
  },
  {
   "cell_type": "code",
   "execution_count": 45,
   "metadata": {},
   "outputs": [
    {
     "output_type": "execute_result",
     "data": {
      "text/plain": "                                          id  sale_number  \\\n0       d9389924-38c7-4411-b042-345b2993e6e4         1756   \n1       5e53cd6f-cb93-45a9-bd65-191fe5b336d6         1756   \n2       8852dd94-6719-4522-8492-2da04e2fcd1b         1756   \n3       0da60937-40f3-41c3-8681-865bc981a04e         1756   \n4       eeba8512-4fd0-48d9-b212-5d6c84143d0e         1756   \n...                                      ...          ...   \n259591  1a576346-ceec-4b96-8fb9-6207264c0703        18084   \n259592  c2f91534-cecc-4350-b54a-e6d955a7535d        18084   \n259593  82e9e786-12df-48e4-b2dc-26663573452e        18084   \n259594  2804252d-35ec-4b59-93b7-e1b6ec9be955        18084   \n259595  88690c6a-1e63-4c6c-b329-6a82d9b55c1f        18084   \n\n                                                 sale_url  \\\n0       https://www.christies.com/results?sc_lang=en&m...   \n1       https://www.christies.com/results?sc_lang=en&m...   \n2       https://www.christies.com/results?sc_lang=en&m...   \n3       https://www.christies.com/results?sc_lang=en&m...   \n4       https://www.christies.com/results?sc_lang=en&m...   \n...                                                   ...   \n259591  https://onlineonly.christies.com/s/matisse-pap...   \n259592  https://onlineonly.christies.com/s/matisse-pap...   \n259593  https://onlineonly.christies.com/s/matisse-pap...   \n259594  https://onlineonly.christies.com/s/matisse-pap...   \n259595  https://onlineonly.christies.com/s/matisse-pap...   \n\n                                           sale_input_url  sale_year  \\\n0       https://www.christies.com/results?sc_lang=en&m...       2006   \n1       https://www.christies.com/results?sc_lang=en&m...       2006   \n2       https://www.christies.com/results?sc_lang=en&m...       2006   \n3       https://www.christies.com/results?sc_lang=en&m...       2006   \n4       https://www.christies.com/results?sc_lang=en&m...       2006   \n...                                                   ...        ...   \n259591  https://www.christies.com/results?sc_lang=en&m...       2019   \n259592  https://www.christies.com/results?sc_lang=en&m...       2019   \n259593  https://www.christies.com/results?sc_lang=en&m...       2019   \n259594  https://www.christies.com/results?sc_lang=en&m...       2019   \n259595  https://www.christies.com/results?sc_lang=en&m...       2019   \n\n        sale_month   sale_date sale_location  sale_location_int  \\\n0               10  2006-10-03      new_york                 43   \n1               10  2006-10-03      new_york                 43   \n2               10  2006-10-03      new_york                 43   \n3               10  2006-10-03      new_york                 43   \n4               10  2006-10-03      new_york                 43   \n...            ...         ...           ...                ...   \n259591           3  2019-03-01        online                115   \n259592           3  2019-03-01        online                115   \n259593           3  2019-03-01        online                115   \n259594           3  2019-03-01        online                115   \n259595           3  2019-03-01        online                115   \n\n                 sale_category  ... lot_estimate_low lot_estimate_high  \\\n0                    asian_art  ...             5000              7000   \n1                    asian_art  ...             5000              7000   \n2                    asian_art  ...             1000              1500   \n3                    asian_art  ...             2000              3000   \n4                    asian_art  ...             5000              7000   \n...                        ...  ...              ...               ...   \n259591  photographs_and_prints  ...             7000             10000   \n259592  photographs_and_prints  ...             8000             12000   \n259593  photographs_and_prints  ...             8000             12000   \n259594  photographs_and_prints  ...             5000              7000   \n259595  photographs_and_prints  ...              800              1200   \n\n                                          lot_description  lot_medium  \\\n0                          Bolognese School, 16th Century               \n1                                         After Correggio               \n2                             AFTER RAPHAEL, 20TH CENTURY               \n3              After Andrea del Sarto, early 19th Century               \n4       Circle of Jan Miel (Beveren-Waes 1599-1664 Turin)               \n...                                                   ...         ...   \n259591  Henri Matisse (1869-1954)<br>Pot au fleurs<br>...        None   \n259592  HENRI MATISSE (1869-1954)<br>Nu renversé au br...        None   \n259593  HENRI MATISSE (1869-1954)<br>Nu à genoux, bras...        None   \n259594  HENRI MATISSE (1869-1954)<br>Nu assis au colli...        None   \n259595  Henri Matisse (1869-1954)<br>Etude de profil<b...        None   \n\n                                lot_image_id  usd_equivalent  \\\n0       812944f7-7607-45f9-ac1b-966b14cfaad8             1.0   \n1       6a873c3b-1672-4996-b492-c04889326e2f             1.0   \n2       ec5fab69-3aeb-4473-bb1a-61566c969c05             1.0   \n3       93366520-7112-47d9-bbff-f5e475b221a2             1.0   \n4       f2e1e70c-a4da-4422-b0bb-a63466da5b16             1.0   \n...                                      ...             ...   \n259591  c03b6bfe-a7b6-4445-845a-60d26fcef8fb             1.0   \n259592  ef6cadc9-8d1c-4929-b1ed-6f077b2307ee             1.0   \n259593  05f36344-3821-43a1-b841-0ebf843cec48             1.0   \n259594  0939e479-83dd-49e6-bda0-22e002fd4200             1.0   \n259595  d73aecf0-e058-4a04-a746-642dfaceea70             1.0   \n\n       inflation_to_2020 lot_realized_price_usd lot_estimate_low_usd  \\\n0               1.278350            6136.079286          6391.749257   \n1               1.278350            5829.275322          6391.749257   \n2               1.278350             153.401982          1278.349851   \n3               1.278350            2914.637661          2556.699703   \n4               1.278350            4602.059465          6391.749257   \n...                  ...                    ...                  ...   \n259591          1.014827           19028.002337          7103.787539   \n259592          1.014827           30444.803739          8118.614330   \n259593          1.014827           19028.002337          8118.614330   \n259594          1.014827           22833.602804          5074.133956   \n259595          1.014827           22833.602804           811.861433   \n\n        lot_estimate_high_usd  \n0                 8948.448959  \n1                 8948.448959  \n2                 1917.524777  \n3                 3835.049554  \n4                 8948.448959  \n...                       ...  \n259591           10148.267913  \n259592           12177.921496  \n259593           12177.921496  \n259594            7103.787539  \n259595            1217.792150  \n\n[259596 rows x 24 columns]",
      "text/html": "<div>\n<style scoped>\n    .dataframe tbody tr th:only-of-type {\n        vertical-align: middle;\n    }\n\n    .dataframe tbody tr th {\n        vertical-align: top;\n    }\n\n    .dataframe thead th {\n        text-align: right;\n    }\n</style>\n<table border=\"1\" class=\"dataframe\">\n  <thead>\n    <tr style=\"text-align: right;\">\n      <th></th>\n      <th>id</th>\n      <th>sale_number</th>\n      <th>sale_url</th>\n      <th>sale_input_url</th>\n      <th>sale_year</th>\n      <th>sale_month</th>\n      <th>sale_date</th>\n      <th>sale_location</th>\n      <th>sale_location_int</th>\n      <th>sale_category</th>\n      <th>...</th>\n      <th>lot_estimate_low</th>\n      <th>lot_estimate_high</th>\n      <th>lot_description</th>\n      <th>lot_medium</th>\n      <th>lot_image_id</th>\n      <th>usd_equivalent</th>\n      <th>inflation_to_2020</th>\n      <th>lot_realized_price_usd</th>\n      <th>lot_estimate_low_usd</th>\n      <th>lot_estimate_high_usd</th>\n    </tr>\n  </thead>\n  <tbody>\n    <tr>\n      <th>0</th>\n      <td>d9389924-38c7-4411-b042-345b2993e6e4</td>\n      <td>1756</td>\n      <td>https://www.christies.com/results?sc_lang=en&amp;m...</td>\n      <td>https://www.christies.com/results?sc_lang=en&amp;m...</td>\n      <td>2006</td>\n      <td>10</td>\n      <td>2006-10-03</td>\n      <td>new_york</td>\n      <td>43</td>\n      <td>asian_art</td>\n      <td>...</td>\n      <td>5000</td>\n      <td>7000</td>\n      <td>Bolognese School, 16th Century</td>\n      <td></td>\n      <td>812944f7-7607-45f9-ac1b-966b14cfaad8</td>\n      <td>1.0</td>\n      <td>1.278350</td>\n      <td>6136.079286</td>\n      <td>6391.749257</td>\n      <td>8948.448959</td>\n    </tr>\n    <tr>\n      <th>1</th>\n      <td>5e53cd6f-cb93-45a9-bd65-191fe5b336d6</td>\n      <td>1756</td>\n      <td>https://www.christies.com/results?sc_lang=en&amp;m...</td>\n      <td>https://www.christies.com/results?sc_lang=en&amp;m...</td>\n      <td>2006</td>\n      <td>10</td>\n      <td>2006-10-03</td>\n      <td>new_york</td>\n      <td>43</td>\n      <td>asian_art</td>\n      <td>...</td>\n      <td>5000</td>\n      <td>7000</td>\n      <td>After Correggio</td>\n      <td></td>\n      <td>6a873c3b-1672-4996-b492-c04889326e2f</td>\n      <td>1.0</td>\n      <td>1.278350</td>\n      <td>5829.275322</td>\n      <td>6391.749257</td>\n      <td>8948.448959</td>\n    </tr>\n    <tr>\n      <th>2</th>\n      <td>8852dd94-6719-4522-8492-2da04e2fcd1b</td>\n      <td>1756</td>\n      <td>https://www.christies.com/results?sc_lang=en&amp;m...</td>\n      <td>https://www.christies.com/results?sc_lang=en&amp;m...</td>\n      <td>2006</td>\n      <td>10</td>\n      <td>2006-10-03</td>\n      <td>new_york</td>\n      <td>43</td>\n      <td>asian_art</td>\n      <td>...</td>\n      <td>1000</td>\n      <td>1500</td>\n      <td>AFTER RAPHAEL, 20TH CENTURY</td>\n      <td></td>\n      <td>ec5fab69-3aeb-4473-bb1a-61566c969c05</td>\n      <td>1.0</td>\n      <td>1.278350</td>\n      <td>153.401982</td>\n      <td>1278.349851</td>\n      <td>1917.524777</td>\n    </tr>\n    <tr>\n      <th>3</th>\n      <td>0da60937-40f3-41c3-8681-865bc981a04e</td>\n      <td>1756</td>\n      <td>https://www.christies.com/results?sc_lang=en&amp;m...</td>\n      <td>https://www.christies.com/results?sc_lang=en&amp;m...</td>\n      <td>2006</td>\n      <td>10</td>\n      <td>2006-10-03</td>\n      <td>new_york</td>\n      <td>43</td>\n      <td>asian_art</td>\n      <td>...</td>\n      <td>2000</td>\n      <td>3000</td>\n      <td>After Andrea del Sarto, early 19th Century</td>\n      <td></td>\n      <td>93366520-7112-47d9-bbff-f5e475b221a2</td>\n      <td>1.0</td>\n      <td>1.278350</td>\n      <td>2914.637661</td>\n      <td>2556.699703</td>\n      <td>3835.049554</td>\n    </tr>\n    <tr>\n      <th>4</th>\n      <td>eeba8512-4fd0-48d9-b212-5d6c84143d0e</td>\n      <td>1756</td>\n      <td>https://www.christies.com/results?sc_lang=en&amp;m...</td>\n      <td>https://www.christies.com/results?sc_lang=en&amp;m...</td>\n      <td>2006</td>\n      <td>10</td>\n      <td>2006-10-03</td>\n      <td>new_york</td>\n      <td>43</td>\n      <td>asian_art</td>\n      <td>...</td>\n      <td>5000</td>\n      <td>7000</td>\n      <td>Circle of Jan Miel (Beveren-Waes 1599-1664 Turin)</td>\n      <td></td>\n      <td>f2e1e70c-a4da-4422-b0bb-a63466da5b16</td>\n      <td>1.0</td>\n      <td>1.278350</td>\n      <td>4602.059465</td>\n      <td>6391.749257</td>\n      <td>8948.448959</td>\n    </tr>\n    <tr>\n      <th>...</th>\n      <td>...</td>\n      <td>...</td>\n      <td>...</td>\n      <td>...</td>\n      <td>...</td>\n      <td>...</td>\n      <td>...</td>\n      <td>...</td>\n      <td>...</td>\n      <td>...</td>\n      <td>...</td>\n      <td>...</td>\n      <td>...</td>\n      <td>...</td>\n      <td>...</td>\n      <td>...</td>\n      <td>...</td>\n      <td>...</td>\n      <td>...</td>\n      <td>...</td>\n      <td>...</td>\n    </tr>\n    <tr>\n      <th>259591</th>\n      <td>1a576346-ceec-4b96-8fb9-6207264c0703</td>\n      <td>18084</td>\n      <td>https://onlineonly.christies.com/s/matisse-pap...</td>\n      <td>https://www.christies.com/results?sc_lang=en&amp;m...</td>\n      <td>2019</td>\n      <td>3</td>\n      <td>2019-03-01</td>\n      <td>online</td>\n      <td>115</td>\n      <td>photographs_and_prints</td>\n      <td>...</td>\n      <td>7000</td>\n      <td>10000</td>\n      <td>Henri Matisse (1869-1954)&lt;br&gt;Pot au fleurs&lt;br&gt;...</td>\n      <td>None</td>\n      <td>c03b6bfe-a7b6-4445-845a-60d26fcef8fb</td>\n      <td>1.0</td>\n      <td>1.014827</td>\n      <td>19028.002337</td>\n      <td>7103.787539</td>\n      <td>10148.267913</td>\n    </tr>\n    <tr>\n      <th>259592</th>\n      <td>c2f91534-cecc-4350-b54a-e6d955a7535d</td>\n      <td>18084</td>\n      <td>https://onlineonly.christies.com/s/matisse-pap...</td>\n      <td>https://www.christies.com/results?sc_lang=en&amp;m...</td>\n      <td>2019</td>\n      <td>3</td>\n      <td>2019-03-01</td>\n      <td>online</td>\n      <td>115</td>\n      <td>photographs_and_prints</td>\n      <td>...</td>\n      <td>8000</td>\n      <td>12000</td>\n      <td>HENRI MATISSE (1869-1954)&lt;br&gt;Nu renversé au br...</td>\n      <td>None</td>\n      <td>ef6cadc9-8d1c-4929-b1ed-6f077b2307ee</td>\n      <td>1.0</td>\n      <td>1.014827</td>\n      <td>30444.803739</td>\n      <td>8118.614330</td>\n      <td>12177.921496</td>\n    </tr>\n    <tr>\n      <th>259593</th>\n      <td>82e9e786-12df-48e4-b2dc-26663573452e</td>\n      <td>18084</td>\n      <td>https://onlineonly.christies.com/s/matisse-pap...</td>\n      <td>https://www.christies.com/results?sc_lang=en&amp;m...</td>\n      <td>2019</td>\n      <td>3</td>\n      <td>2019-03-01</td>\n      <td>online</td>\n      <td>115</td>\n      <td>photographs_and_prints</td>\n      <td>...</td>\n      <td>8000</td>\n      <td>12000</td>\n      <td>HENRI MATISSE (1869-1954)&lt;br&gt;Nu à genoux, bras...</td>\n      <td>None</td>\n      <td>05f36344-3821-43a1-b841-0ebf843cec48</td>\n      <td>1.0</td>\n      <td>1.014827</td>\n      <td>19028.002337</td>\n      <td>8118.614330</td>\n      <td>12177.921496</td>\n    </tr>\n    <tr>\n      <th>259594</th>\n      <td>2804252d-35ec-4b59-93b7-e1b6ec9be955</td>\n      <td>18084</td>\n      <td>https://onlineonly.christies.com/s/matisse-pap...</td>\n      <td>https://www.christies.com/results?sc_lang=en&amp;m...</td>\n      <td>2019</td>\n      <td>3</td>\n      <td>2019-03-01</td>\n      <td>online</td>\n      <td>115</td>\n      <td>photographs_and_prints</td>\n      <td>...</td>\n      <td>5000</td>\n      <td>7000</td>\n      <td>HENRI MATISSE (1869-1954)&lt;br&gt;Nu assis au colli...</td>\n      <td>None</td>\n      <td>0939e479-83dd-49e6-bda0-22e002fd4200</td>\n      <td>1.0</td>\n      <td>1.014827</td>\n      <td>22833.602804</td>\n      <td>5074.133956</td>\n      <td>7103.787539</td>\n    </tr>\n    <tr>\n      <th>259595</th>\n      <td>88690c6a-1e63-4c6c-b329-6a82d9b55c1f</td>\n      <td>18084</td>\n      <td>https://onlineonly.christies.com/s/matisse-pap...</td>\n      <td>https://www.christies.com/results?sc_lang=en&amp;m...</td>\n      <td>2019</td>\n      <td>3</td>\n      <td>2019-03-01</td>\n      <td>online</td>\n      <td>115</td>\n      <td>photographs_and_prints</td>\n      <td>...</td>\n      <td>800</td>\n      <td>1200</td>\n      <td>Henri Matisse (1869-1954)&lt;br&gt;Etude de profil&lt;b...</td>\n      <td>None</td>\n      <td>d73aecf0-e058-4a04-a746-642dfaceea70</td>\n      <td>1.0</td>\n      <td>1.014827</td>\n      <td>22833.602804</td>\n      <td>811.861433</td>\n      <td>1217.792150</td>\n    </tr>\n  </tbody>\n</table>\n<p>259596 rows × 24 columns</p>\n</div>"
     },
     "metadata": {},
     "execution_count": 45
    }
   ],
   "source": [
    "df_all"
   ]
  },
  {
   "cell_type": "code",
   "execution_count": 46,
   "metadata": {},
   "outputs": [
    {
     "output_type": "execute_result",
     "data": {
      "text/plain": "fine_art                        162081\nphotographs_and_prints           51173\nasian_art                        42187\nislamic_and_eastern_european      4155\nName: sale_category, dtype: int64"
     },
     "metadata": {},
     "execution_count": 46
    }
   ],
   "source": [
    "df_all[\"sale_category\"].value_counts()"
   ]
  },
  {
   "cell_type": "code",
   "execution_count": 47,
   "metadata": {},
   "outputs": [
    {
     "output_type": "execute_result",
     "data": {
      "text/plain": "array([4180, 2100, 1109, 1062, 1038,  870,  803,  634,  602,  593,  552,\n        552,  524,  498,  470,  447,  432,  426,  402,  393,  367,  362,\n        360,  353,  347,  336,  334,  333,  322,  315,  315,  315,  314,\n        313,  308,  305,  304,  292,  291,  285,  277,  270,  267,  265,\n        264,  257,  255,  247,  246,  243,  233,  232,  232,  228,  226,\n        222,  219,  219,  215,  212,  211,  210,  207,  206,  205,  204,\n        202,  201,  197,  196,  192,  191,  189,  189,  188,  188,  187,\n        187,  182,  181,  180,  180,  177,  175,  170,  170,  169,  169,\n        168,  165,  165,  163,  159,  156,  153,  152,  152,  152,  151,\n        151])"
     },
     "metadata": {},
     "execution_count": 47
    }
   ],
   "source": [
    "# df_all[\"lot_artist\"].value_counts()[:100]\n",
    "df_all[\"lot_description\"].value_counts()[:100].values"
   ]
  },
  {
   "cell_type": "markdown",
   "metadata": {},
   "source": [
    "One option would be to take the top x represented artists. You would then want\n",
    "the model to be fairly adept at picking those artists. Would be interesting to\n",
    "see which artworks were not selected by the model.\n",
    "\n",
    "Another option would be to take a weighted random sample of the top n artists and\n",
    "cluster to something mush smaller than that\n",
    "\n",
    "Could also take all black and white prints and cluster on that. Might not have\n",
    "enough data to do that well. - Only have 691 b&w photos, so no, don't have enough"
   ]
  },
  {
   "cell_type": "code",
   "execution_count": 48,
   "metadata": {},
   "outputs": [
    {
     "output_type": "execute_result",
     "data": {
      "text/plain": "360175"
     },
     "metadata": {},
     "execution_count": 48
    }
   ],
   "source": [
    "# get all the images that we have\n",
    "image_paths = [fp.split(\".\")[0] for fp in os.listdir(IMAGE_DIR) if os.path.isfile(os.path.join(IMAGE_DIR, fp))]\n",
    "len(image_paths)"
   ]
  },
  {
   "cell_type": "code",
   "execution_count": 49,
   "metadata": {},
   "outputs": [
    {
     "output_type": "execute_result",
     "data": {
      "text/plain": "(256020, 26)"
     },
     "metadata": {},
     "execution_count": 49
    }
   ],
   "source": [
    "# Filter to only where we have images\n",
    "df = df[df.lot_image_id.isin(image_paths)]\n",
    "df.shape"
   ]
  },
  {
   "cell_type": "code",
   "execution_count": 50,
   "metadata": {
    "tags": []
   },
   "outputs": [
    {
     "output_type": "stream",
     "name": "stdout",
     "text": "dropping 10889 duplicates\ndropping 0 duplicated image_urls\n"
    },
    {
     "output_type": "execute_result",
     "data": {
      "text/plain": "pablo picasso                   4588\nandy warhol                     2681\njoan miro                       1822\nmarc chagall                    1452\nrembrandt harmensz. van rijn     892\n                                ... \ndiane arbus                      184\ngeorg baselitz                   184\nkees van dongen                  184\ncindy sherman                    183\nchu teh-chun                     182\nName: lot_description, Length: 100, dtype: int64"
     },
     "metadata": {},
     "execution_count": 50
    }
   ],
   "source": [
    "# Select the top 100 artists by number of instances in the dataset\n",
    "MAKER_RE = re.compile(r\"^(?P<maker>[\\w\\s\\.,\\-'']+)\\s\\([\\s0-9bBb\\-\\.]+\\)$\")\n",
    "\n",
    "def strip_date(x):\n",
    "    match = re.search(MAKER_RE, x)\n",
    "    if not match:\n",
    "        return x\n",
    "    return match.group(\"maker\")\n",
    "\n",
    "df[\"lot_description\"] = df[\"lot_description\"].apply(lambda x: x.lower().strip())\n",
    "df = df[~df.lot_description.isin([\"a\", \"a\", \"none\" \"\", \" \", \"english school, 19th century\", \"after pablo picasso\"])]\n",
    "df[\"lot_description\"] = df[\"lot_description\"].apply(lambda x: x if not x.startswith(\"joan mir\") \n",
    "else \"joan miro\")\n",
    "df[\"lot_description\"] = df[\"lot_description\"].apply(strip_date)\n",
    "\n",
    "# drop duplicates\n",
    "duplicated_image_ids = df.duplicated(subset=\"lot_image_id\", keep=\"last\")\n",
    "print(\"dropping {} duplicates\".format(sum(duplicated_image_ids)))\n",
    "df = df[~duplicated_image_ids]\n",
    "\n",
    "duplicated_image_urls = df.duplicated(subset=\"lot_image_url\", keep=\"last\")\n",
    "print(\"dropping {} duplicated image_urls\".format(sum(duplicated_image_urls)))\n",
    "df = df[~duplicated_image_urls]\n",
    "\n",
    "top_100 = df[\"lot_description\"].value_counts()[:100]\n",
    "top_100"
   ]
  },
  {
   "cell_type": "code",
   "execution_count": 51,
   "metadata": {},
   "outputs": [
    {
     "output_type": "execute_result",
     "data": {
      "text/plain": "3.0    239541\n1.0       671\nName: image_channels, dtype: int64"
     },
     "metadata": {},
     "execution_count": 51
    }
   ],
   "source": [
    "# Black and White photos\n",
    "# TODO Need to download files\n",
    "df_bw = df[df[\"image_channels\"] == 1]\n",
    "df[\"image_channels\"].value_counts()"
   ]
  },
  {
   "cell_type": "code",
   "execution_count": 52,
   "metadata": {
    "tags": []
   },
   "outputs": [
    {
     "output_type": "execute_result",
     "data": {
      "text/plain": "pablo picasso                   4588\nandy warhol                     2681\njoan miro                       1822\nmarc chagall                    1452\nrembrandt harmensz. van rijn     892\n                                ... \nmax ernst                        290\nchristo                          289\nauguste rodin                    287\nwayne thiebaud                   279\npu ru                            270\nName: lot_description, Length: 50, dtype: int64"
     },
     "metadata": {},
     "execution_count": 52
    }
   ],
   "source": [
    "top_50 = top_100[:50]\n",
    "top_50"
   ]
  },
  {
   "cell_type": "code",
   "execution_count": 53,
   "metadata": {
    "tags": []
   },
   "outputs": [
    {
     "output_type": "execute_result",
     "data": {
      "text/plain": "['pablo picasso',\n 'andy warhol',\n 'joan miro',\n 'marc chagall',\n 'rembrandt harmensz. van rijn',\n 'david hockney',\n 'roy lichtenstein',\n 'henri matisse',\n 'albrecht dürer',\n 'henry moore',\n 'francis newton souza',\n 'zhang daqian',\n 'sam francis',\n 'irving penn',\n 'alexander calder',\n 'robert rauschenberg',\n 'frank stella',\n 'damien hirst',\n 'jasper johns',\n 'lucio fontana',\n 'jean dubuffet',\n 'victor vasarely',\n 'tom wesselmann',\n 'pierre-auguste renoir',\n 'zao wou-ki',\n 'gerhard richter',\n 'henri cartier-bresson',\n 'sol lewitt',\n 'henri de toulouse-lautrec',\n 'keith haring',\n 'bernard buffet',\n 'raoul dufy',\n 'qi baishi',\n 'helmut newton',\n 'jim dine',\n 'ansel adams',\n 'hiroshi sugimoto',\n 'salvador dalí',\n 'alighiero boetti',\n 'robert motherwell',\n 'karel appel',\n 'edgar degas',\n 'maurice de vlaminck',\n 'takashi murakami',\n 'laurence stephen lowry, r.a.',\n 'max ernst',\n 'christo',\n 'auguste rodin',\n 'wayne thiebaud',\n 'pu ru']"
     },
     "metadata": {},
     "execution_count": 53
    }
   ],
   "source": [
    "top_50_artists = list(top_50.index)\n",
    "top_50_artists"
   ]
  },
  {
   "cell_type": "code",
   "execution_count": 54,
   "metadata": {
    "tags": []
   },
   "outputs": [],
   "source": [
    "# randomly sample n works from each artist\n",
    "n_per_artist = 250\n",
    "assert len(top_50_artists) == len(set(top_50_artists))\n",
    "n_artists = len(top_50_artists)\n",
    "n = int(n_per_artist * n_artists)\n",
    "\n",
    "assert n_per_artist % int(n_per_artist) == 0\n",
    "n_per_artist = int(n_per_artist)\n",
    "\n",
    "\n",
    "artist_datasets = {}\n",
    "for artist in top_50_artists:\n",
    "    artist_datasets[artist] = df[df[\"lot_description\"] == artist]\n",
    "\n",
    "seed = 21\n",
    "final_df = None\n",
    "for _, v in artist_datasets.items():\n",
    "    sampled = v.sample(n=n_per_artist, random_state=int(seed))\n",
    "    if final_df is None:\n",
    "        final_df = sampled\n",
    "        continue\n",
    "\n",
    "    final_df = pd.concat([final_df, sampled])\n",
    "\n",
    "assert final_df.shape[0] == n\n",
    "assert set(final_df[\"lot_description\"].value_counts().values) == {n_per_artist}"
   ]
  },
  {
   "cell_type": "code",
   "execution_count": 55,
   "metadata": {},
   "outputs": [
    {
     "output_type": "execute_result",
     "data": {
      "text/plain": "Index(['id', 'sale_number', 'sale_url', 'sale_input_url', 'sale_year',\n       'sale_month', 'sale_date', 'sale_location', 'sale_location_int',\n       'sale_category', 'sale_currency', 'lot_image_url', 'lot_artist',\n       'lot_realized_price', 'lot_estimate_low', 'lot_estimate_high',\n       'lot_description', 'lot_medium', 'lot_image_id', 'usd_equivalent',\n       'inflation_to_2020', 'lot_realized_price_usd', 'lot_estimate_low_usd',\n       'lot_estimate_high_usd', 'image_channels', 'image_shape'],\n      dtype='object')"
     },
     "metadata": {},
     "execution_count": 55
    }
   ],
   "source": [
    "pd.set_option(\"display.max_rows\", 50)\n",
    "final_df[\"lot_description\"].value_counts()\n",
    "final_df.columns"
   ]
  },
  {
   "cell_type": "code",
   "execution_count": 56,
   "metadata": {},
   "outputs": [
    {
     "output_type": "execute_result",
     "data": {
      "text/plain": "0"
     },
     "metadata": {},
     "execution_count": 56
    }
   ],
   "source": [
    "# Check for duplicated rows with id, lot_image_url, lot_image_id\n",
    "sum(final_df.duplicated(subset=\"lot_image_id\"))\n",
    "# sum(final_df.duplicated(subset=\"lot_image_url\"))\n",
    "# sum(final_df.duplicated(subset=\"id\"))"
   ]
  },
  {
   "cell_type": "code",
   "execution_count": 57,
   "metadata": {},
   "outputs": [],
   "source": [
    "# Write the output\n",
    "final_df.to_json(\"/home/dubs/dev/paap/data/output/christies.ndjson\", orient=\"records\", lines=True)"
   ]
  }
 ]
}
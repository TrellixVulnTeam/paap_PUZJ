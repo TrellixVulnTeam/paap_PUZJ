{
 "metadata": {
  "language_info": {
   "codemirror_mode": {
    "name": "ipython",
    "version": 3
   },
   "file_extension": ".py",
   "mimetype": "text/x-python",
   "name": "python",
   "nbconvert_exporter": "python",
   "pygments_lexer": "ipython3",
   "version": "3.7.8-final"
  },
  "orig_nbformat": 2,
  "kernelspec": {
   "name": "python37864bitpaapvenv0ea1eb7480604b1e995981cc76f6a1df",
   "display_name": "Python 3.7.8 64-bit ('paap': venv)"
  }
 },
 "nbformat": 4,
 "nbformat_minor": 2,
 "cells": [
  {
   "cell_type": "markdown",
   "metadata": {},
   "source": [
    "# Analysis\n",
    "\n",
    "* Enter - edit\n",
    "* M - switch to markdown\n",
    "* Y - switch to code\n",
    "* ctrl-enter - run cell\n",
    "* A - add above\n",
    "* B - add below\n",
    "\n",
    "Shared functions for analysis"
   ]
  },
  {
   "cell_type": "code",
   "execution_count": 41,
   "metadata": {},
   "outputs": [],
   "source": [
    "import re\n",
    "\n",
    "import pandas as pd\n",
    "import numpy as np\n",
    "\n",
    "pd.set_option(\"display.max_rows\", 100)\n",
    "\n",
    "# constants\n",
    "ALL_OUTPUT = \"/home/dubs/dev/paap/data/output/calculate_modern_price_output.json\"\n",
    "PHOTOS_AND_PRINTS = \"/home/dubs/dev/paap/data/output/photos_and_prints_only.json\""
   ]
  },
  {
   "cell_type": "code",
   "execution_count": 8,
   "metadata": {},
   "outputs": [],
   "source": [
    "df_all = pd.read_json(ALL_OUTPUT, orient=\"records\")"
   ]
  },
  {
   "cell_type": "code",
   "execution_count": 9,
   "metadata": {},
   "outputs": [
    {
     "output_type": "execute_result",
     "data": {
      "text/plain": "                                          id  sale_number  \\\n0       d9389924-38c7-4411-b042-345b2993e6e4         1756   \n1       5e53cd6f-cb93-45a9-bd65-191fe5b336d6         1756   \n2       8852dd94-6719-4522-8492-2da04e2fcd1b         1756   \n3       0da60937-40f3-41c3-8681-865bc981a04e         1756   \n4       eeba8512-4fd0-48d9-b212-5d6c84143d0e         1756   \n...                                      ...          ...   \n259591  1a576346-ceec-4b96-8fb9-6207264c0703        18084   \n259592  c2f91534-cecc-4350-b54a-e6d955a7535d        18084   \n259593  82e9e786-12df-48e4-b2dc-26663573452e        18084   \n259594  2804252d-35ec-4b59-93b7-e1b6ec9be955        18084   \n259595  88690c6a-1e63-4c6c-b329-6a82d9b55c1f        18084   \n\n                                                 sale_url  \\\n0       https://www.christies.com/results?sc_lang=en&m...   \n1       https://www.christies.com/results?sc_lang=en&m...   \n2       https://www.christies.com/results?sc_lang=en&m...   \n3       https://www.christies.com/results?sc_lang=en&m...   \n4       https://www.christies.com/results?sc_lang=en&m...   \n...                                                   ...   \n259591  https://onlineonly.christies.com/s/matisse-pap...   \n259592  https://onlineonly.christies.com/s/matisse-pap...   \n259593  https://onlineonly.christies.com/s/matisse-pap...   \n259594  https://onlineonly.christies.com/s/matisse-pap...   \n259595  https://onlineonly.christies.com/s/matisse-pap...   \n\n                                           sale_input_url  sale_year  \\\n0       https://www.christies.com/results?sc_lang=en&m...       2006   \n1       https://www.christies.com/results?sc_lang=en&m...       2006   \n2       https://www.christies.com/results?sc_lang=en&m...       2006   \n3       https://www.christies.com/results?sc_lang=en&m...       2006   \n4       https://www.christies.com/results?sc_lang=en&m...       2006   \n...                                                   ...        ...   \n259591  https://www.christies.com/results?sc_lang=en&m...       2019   \n259592  https://www.christies.com/results?sc_lang=en&m...       2019   \n259593  https://www.christies.com/results?sc_lang=en&m...       2019   \n259594  https://www.christies.com/results?sc_lang=en&m...       2019   \n259595  https://www.christies.com/results?sc_lang=en&m...       2019   \n\n        sale_month   sale_date sale_location  sale_location_int  \\\n0               10  2006-10-03      new_york                 43   \n1               10  2006-10-03      new_york                 43   \n2               10  2006-10-03      new_york                 43   \n3               10  2006-10-03      new_york                 43   \n4               10  2006-10-03      new_york                 43   \n...            ...         ...           ...                ...   \n259591           3  2019-03-01        online                115   \n259592           3  2019-03-01        online                115   \n259593           3  2019-03-01        online                115   \n259594           3  2019-03-01        online                115   \n259595           3  2019-03-01        online                115   \n\n                 sale_category  ... lot_estimate_low lot_estimate_high  \\\n0                    asian_art  ...             5000              7000   \n1                    asian_art  ...             5000              7000   \n2                    asian_art  ...             1000              1500   \n3                    asian_art  ...             2000              3000   \n4                    asian_art  ...             5000              7000   \n...                        ...  ...              ...               ...   \n259591  photographs_and_prints  ...             7000             10000   \n259592  photographs_and_prints  ...             8000             12000   \n259593  photographs_and_prints  ...             8000             12000   \n259594  photographs_and_prints  ...             5000              7000   \n259595  photographs_and_prints  ...              800              1200   \n\n                                          lot_description  lot_medium  \\\n0                          Bolognese School, 16th Century               \n1                                         After Correggio               \n2                             AFTER RAPHAEL, 20TH CENTURY               \n3              After Andrea del Sarto, early 19th Century               \n4       Circle of Jan Miel (Beveren-Waes 1599-1664 Turin)               \n...                                                   ...         ...   \n259591  Henri Matisse (1869-1954)<br>Pot au fleurs<br>...        None   \n259592  HENRI MATISSE (1869-1954)<br>Nu renversé au br...        None   \n259593  HENRI MATISSE (1869-1954)<br>Nu à genoux, bras...        None   \n259594  HENRI MATISSE (1869-1954)<br>Nu assis au colli...        None   \n259595  Henri Matisse (1869-1954)<br>Etude de profil<b...        None   \n\n                                lot_image_id  usd_equivalent  \\\n0       812944f7-7607-45f9-ac1b-966b14cfaad8             1.0   \n1       6a873c3b-1672-4996-b492-c04889326e2f             1.0   \n2       ec5fab69-3aeb-4473-bb1a-61566c969c05             1.0   \n3       93366520-7112-47d9-bbff-f5e475b221a2             1.0   \n4       f2e1e70c-a4da-4422-b0bb-a63466da5b16             1.0   \n...                                      ...             ...   \n259591  c03b6bfe-a7b6-4445-845a-60d26fcef8fb             1.0   \n259592  ef6cadc9-8d1c-4929-b1ed-6f077b2307ee             1.0   \n259593  05f36344-3821-43a1-b841-0ebf843cec48             1.0   \n259594  0939e479-83dd-49e6-bda0-22e002fd4200             1.0   \n259595  d73aecf0-e058-4a04-a746-642dfaceea70             1.0   \n\n       inflation_to_2020 lot_realized_price_usd lot_estimate_low_usd  \\\n0               1.278350            6136.079286          6391.749257   \n1               1.278350            5829.275322          6391.749257   \n2               1.278350             153.401982          1278.349851   \n3               1.278350            2914.637661          2556.699703   \n4               1.278350            4602.059465          6391.749257   \n...                  ...                    ...                  ...   \n259591          1.014827           19028.002337          7103.787539   \n259592          1.014827           30444.803739          8118.614330   \n259593          1.014827           19028.002337          8118.614330   \n259594          1.014827           22833.602804          5074.133956   \n259595          1.014827           22833.602804           811.861433   \n\n        lot_estimate_high_usd  \n0                 8948.448959  \n1                 8948.448959  \n2                 1917.524777  \n3                 3835.049554  \n4                 8948.448959  \n...                       ...  \n259591           10148.267913  \n259592           12177.921496  \n259593           12177.921496  \n259594            7103.787539  \n259595            1217.792150  \n\n[259596 rows x 24 columns]",
      "text/html": "<div>\n<style scoped>\n    .dataframe tbody tr th:only-of-type {\n        vertical-align: middle;\n    }\n\n    .dataframe tbody tr th {\n        vertical-align: top;\n    }\n\n    .dataframe thead th {\n        text-align: right;\n    }\n</style>\n<table border=\"1\" class=\"dataframe\">\n  <thead>\n    <tr style=\"text-align: right;\">\n      <th></th>\n      <th>id</th>\n      <th>sale_number</th>\n      <th>sale_url</th>\n      <th>sale_input_url</th>\n      <th>sale_year</th>\n      <th>sale_month</th>\n      <th>sale_date</th>\n      <th>sale_location</th>\n      <th>sale_location_int</th>\n      <th>sale_category</th>\n      <th>...</th>\n      <th>lot_estimate_low</th>\n      <th>lot_estimate_high</th>\n      <th>lot_description</th>\n      <th>lot_medium</th>\n      <th>lot_image_id</th>\n      <th>usd_equivalent</th>\n      <th>inflation_to_2020</th>\n      <th>lot_realized_price_usd</th>\n      <th>lot_estimate_low_usd</th>\n      <th>lot_estimate_high_usd</th>\n    </tr>\n  </thead>\n  <tbody>\n    <tr>\n      <th>0</th>\n      <td>d9389924-38c7-4411-b042-345b2993e6e4</td>\n      <td>1756</td>\n      <td>https://www.christies.com/results?sc_lang=en&amp;m...</td>\n      <td>https://www.christies.com/results?sc_lang=en&amp;m...</td>\n      <td>2006</td>\n      <td>10</td>\n      <td>2006-10-03</td>\n      <td>new_york</td>\n      <td>43</td>\n      <td>asian_art</td>\n      <td>...</td>\n      <td>5000</td>\n      <td>7000</td>\n      <td>Bolognese School, 16th Century</td>\n      <td></td>\n      <td>812944f7-7607-45f9-ac1b-966b14cfaad8</td>\n      <td>1.0</td>\n      <td>1.278350</td>\n      <td>6136.079286</td>\n      <td>6391.749257</td>\n      <td>8948.448959</td>\n    </tr>\n    <tr>\n      <th>1</th>\n      <td>5e53cd6f-cb93-45a9-bd65-191fe5b336d6</td>\n      <td>1756</td>\n      <td>https://www.christies.com/results?sc_lang=en&amp;m...</td>\n      <td>https://www.christies.com/results?sc_lang=en&amp;m...</td>\n      <td>2006</td>\n      <td>10</td>\n      <td>2006-10-03</td>\n      <td>new_york</td>\n      <td>43</td>\n      <td>asian_art</td>\n      <td>...</td>\n      <td>5000</td>\n      <td>7000</td>\n      <td>After Correggio</td>\n      <td></td>\n      <td>6a873c3b-1672-4996-b492-c04889326e2f</td>\n      <td>1.0</td>\n      <td>1.278350</td>\n      <td>5829.275322</td>\n      <td>6391.749257</td>\n      <td>8948.448959</td>\n    </tr>\n    <tr>\n      <th>2</th>\n      <td>8852dd94-6719-4522-8492-2da04e2fcd1b</td>\n      <td>1756</td>\n      <td>https://www.christies.com/results?sc_lang=en&amp;m...</td>\n      <td>https://www.christies.com/results?sc_lang=en&amp;m...</td>\n      <td>2006</td>\n      <td>10</td>\n      <td>2006-10-03</td>\n      <td>new_york</td>\n      <td>43</td>\n      <td>asian_art</td>\n      <td>...</td>\n      <td>1000</td>\n      <td>1500</td>\n      <td>AFTER RAPHAEL, 20TH CENTURY</td>\n      <td></td>\n      <td>ec5fab69-3aeb-4473-bb1a-61566c969c05</td>\n      <td>1.0</td>\n      <td>1.278350</td>\n      <td>153.401982</td>\n      <td>1278.349851</td>\n      <td>1917.524777</td>\n    </tr>\n    <tr>\n      <th>3</th>\n      <td>0da60937-40f3-41c3-8681-865bc981a04e</td>\n      <td>1756</td>\n      <td>https://www.christies.com/results?sc_lang=en&amp;m...</td>\n      <td>https://www.christies.com/results?sc_lang=en&amp;m...</td>\n      <td>2006</td>\n      <td>10</td>\n      <td>2006-10-03</td>\n      <td>new_york</td>\n      <td>43</td>\n      <td>asian_art</td>\n      <td>...</td>\n      <td>2000</td>\n      <td>3000</td>\n      <td>After Andrea del Sarto, early 19th Century</td>\n      <td></td>\n      <td>93366520-7112-47d9-bbff-f5e475b221a2</td>\n      <td>1.0</td>\n      <td>1.278350</td>\n      <td>2914.637661</td>\n      <td>2556.699703</td>\n      <td>3835.049554</td>\n    </tr>\n    <tr>\n      <th>4</th>\n      <td>eeba8512-4fd0-48d9-b212-5d6c84143d0e</td>\n      <td>1756</td>\n      <td>https://www.christies.com/results?sc_lang=en&amp;m...</td>\n      <td>https://www.christies.com/results?sc_lang=en&amp;m...</td>\n      <td>2006</td>\n      <td>10</td>\n      <td>2006-10-03</td>\n      <td>new_york</td>\n      <td>43</td>\n      <td>asian_art</td>\n      <td>...</td>\n      <td>5000</td>\n      <td>7000</td>\n      <td>Circle of Jan Miel (Beveren-Waes 1599-1664 Turin)</td>\n      <td></td>\n      <td>f2e1e70c-a4da-4422-b0bb-a63466da5b16</td>\n      <td>1.0</td>\n      <td>1.278350</td>\n      <td>4602.059465</td>\n      <td>6391.749257</td>\n      <td>8948.448959</td>\n    </tr>\n    <tr>\n      <th>...</th>\n      <td>...</td>\n      <td>...</td>\n      <td>...</td>\n      <td>...</td>\n      <td>...</td>\n      <td>...</td>\n      <td>...</td>\n      <td>...</td>\n      <td>...</td>\n      <td>...</td>\n      <td>...</td>\n      <td>...</td>\n      <td>...</td>\n      <td>...</td>\n      <td>...</td>\n      <td>...</td>\n      <td>...</td>\n      <td>...</td>\n      <td>...</td>\n      <td>...</td>\n      <td>...</td>\n    </tr>\n    <tr>\n      <th>259591</th>\n      <td>1a576346-ceec-4b96-8fb9-6207264c0703</td>\n      <td>18084</td>\n      <td>https://onlineonly.christies.com/s/matisse-pap...</td>\n      <td>https://www.christies.com/results?sc_lang=en&amp;m...</td>\n      <td>2019</td>\n      <td>3</td>\n      <td>2019-03-01</td>\n      <td>online</td>\n      <td>115</td>\n      <td>photographs_and_prints</td>\n      <td>...</td>\n      <td>7000</td>\n      <td>10000</td>\n      <td>Henri Matisse (1869-1954)&lt;br&gt;Pot au fleurs&lt;br&gt;...</td>\n      <td>None</td>\n      <td>c03b6bfe-a7b6-4445-845a-60d26fcef8fb</td>\n      <td>1.0</td>\n      <td>1.014827</td>\n      <td>19028.002337</td>\n      <td>7103.787539</td>\n      <td>10148.267913</td>\n    </tr>\n    <tr>\n      <th>259592</th>\n      <td>c2f91534-cecc-4350-b54a-e6d955a7535d</td>\n      <td>18084</td>\n      <td>https://onlineonly.christies.com/s/matisse-pap...</td>\n      <td>https://www.christies.com/results?sc_lang=en&amp;m...</td>\n      <td>2019</td>\n      <td>3</td>\n      <td>2019-03-01</td>\n      <td>online</td>\n      <td>115</td>\n      <td>photographs_and_prints</td>\n      <td>...</td>\n      <td>8000</td>\n      <td>12000</td>\n      <td>HENRI MATISSE (1869-1954)&lt;br&gt;Nu renversé au br...</td>\n      <td>None</td>\n      <td>ef6cadc9-8d1c-4929-b1ed-6f077b2307ee</td>\n      <td>1.0</td>\n      <td>1.014827</td>\n      <td>30444.803739</td>\n      <td>8118.614330</td>\n      <td>12177.921496</td>\n    </tr>\n    <tr>\n      <th>259593</th>\n      <td>82e9e786-12df-48e4-b2dc-26663573452e</td>\n      <td>18084</td>\n      <td>https://onlineonly.christies.com/s/matisse-pap...</td>\n      <td>https://www.christies.com/results?sc_lang=en&amp;m...</td>\n      <td>2019</td>\n      <td>3</td>\n      <td>2019-03-01</td>\n      <td>online</td>\n      <td>115</td>\n      <td>photographs_and_prints</td>\n      <td>...</td>\n      <td>8000</td>\n      <td>12000</td>\n      <td>HENRI MATISSE (1869-1954)&lt;br&gt;Nu à genoux, bras...</td>\n      <td>None</td>\n      <td>05f36344-3821-43a1-b841-0ebf843cec48</td>\n      <td>1.0</td>\n      <td>1.014827</td>\n      <td>19028.002337</td>\n      <td>8118.614330</td>\n      <td>12177.921496</td>\n    </tr>\n    <tr>\n      <th>259594</th>\n      <td>2804252d-35ec-4b59-93b7-e1b6ec9be955</td>\n      <td>18084</td>\n      <td>https://onlineonly.christies.com/s/matisse-pap...</td>\n      <td>https://www.christies.com/results?sc_lang=en&amp;m...</td>\n      <td>2019</td>\n      <td>3</td>\n      <td>2019-03-01</td>\n      <td>online</td>\n      <td>115</td>\n      <td>photographs_and_prints</td>\n      <td>...</td>\n      <td>5000</td>\n      <td>7000</td>\n      <td>HENRI MATISSE (1869-1954)&lt;br&gt;Nu assis au colli...</td>\n      <td>None</td>\n      <td>0939e479-83dd-49e6-bda0-22e002fd4200</td>\n      <td>1.0</td>\n      <td>1.014827</td>\n      <td>22833.602804</td>\n      <td>5074.133956</td>\n      <td>7103.787539</td>\n    </tr>\n    <tr>\n      <th>259595</th>\n      <td>88690c6a-1e63-4c6c-b329-6a82d9b55c1f</td>\n      <td>18084</td>\n      <td>https://onlineonly.christies.com/s/matisse-pap...</td>\n      <td>https://www.christies.com/results?sc_lang=en&amp;m...</td>\n      <td>2019</td>\n      <td>3</td>\n      <td>2019-03-01</td>\n      <td>online</td>\n      <td>115</td>\n      <td>photographs_and_prints</td>\n      <td>...</td>\n      <td>800</td>\n      <td>1200</td>\n      <td>Henri Matisse (1869-1954)&lt;br&gt;Etude de profil&lt;b...</td>\n      <td>None</td>\n      <td>d73aecf0-e058-4a04-a746-642dfaceea70</td>\n      <td>1.0</td>\n      <td>1.014827</td>\n      <td>22833.602804</td>\n      <td>811.861433</td>\n      <td>1217.792150</td>\n    </tr>\n  </tbody>\n</table>\n<p>259596 rows × 24 columns</p>\n</div>"
     },
     "metadata": {},
     "execution_count": 9
    }
   ],
   "source": [
    "df_all"
   ]
  },
  {
   "cell_type": "code",
   "execution_count": 15,
   "metadata": {},
   "outputs": [
    {
     "output_type": "execute_result",
     "data": {
      "text/plain": "fine_art                        162081\nphotographs_and_prints           51173\nasian_art                        42187\nislamic_and_eastern_european      4155\nName: sale_category, dtype: int64"
     },
     "metadata": {},
     "execution_count": 15
    }
   ],
   "source": [
    "df_all[\"sale_category\"].value_counts()"
   ]
  },
  {
   "cell_type": "code",
   "execution_count": 35,
   "metadata": {},
   "outputs": [
    {
     "output_type": "execute_result",
     "data": {
      "text/plain": "36177"
     },
     "metadata": {},
     "execution_count": 35
    }
   ],
   "source": [
    "# df_all[\"lot_artist\"].value_counts()[:100]\n",
    "df_all[\"lot_description\"].value_counts()[:100].values"
   ]
  },
  {
   "cell_type": "markdown",
   "metadata": {},
   "source": [
    "One option would be to take the top x represented artists. You would then want\n",
    "the model to be fairly adept at picking those artists. Would be interesting to\n",
    "see which artworks were not selected by the model.\n",
    "\n",
    "Another option would be to take a weighted random sample of the top n artists and\n",
    "cluster to something mush smaller than that\n",
    "\n",
    "Could also take all black and white prints and cluster on that. Might not have\n",
    "enough data to do that well."
   ]
  },
  {
   "cell_type": "code",
   "execution_count": 53,
   "metadata": {},
   "outputs": [
    {
     "output_type": "execute_result",
     "data": {
      "text/plain": "pablo picasso                   4832\nandy warhol                     3120\njoan miro                       1838\nmarc chagall                    1474\nrembrandt harmensz. van rijn     912\ndavid hockney                    911\nroy lichtenstein                 880\nhenri matisse                    860\nalbrecht dürer                   710\nfrancis newton souza             624\nhenry moore                      616\nalexander calder                 559\nrobert rauschenberg              539\nzhang daqian                     538\nsam francis                      535\nirving penn                      529\nfrank stella                     515\ndamien hirst                     493\njean dubuffet                    475\njasper johns                     472\nvictor vasarely                  464\ntom wesselmann                   459\nlucio fontana                    455\ngerhard richter                  446\npierre-auguste renoir            437\nzao wou-ki                       433\nsol lewitt                       426\nhenri de toulouse-lautrec        410\nkeith haring                     404\nhenri cartier-bresson            404\nbernard buffet                   399\nraoul dufy                       372\njim dine                         367\nqi baishi                        364\nhelmut newton                    358\nhiroshi sugimoto                 352\nansel adams                      345\nalighiero boetti                 336\nsalvador dalí                    334\nrobert motherwell                330\nedgar degas                      316\ntakashi murakami                 312\nkarel appel                      309\nmaurice de vlaminck              302\nchristo                          300\ngeorges braque                   298\nmax ernst                        296\nwayne thiebaud                   296\nlaurence stephen lowry, r.a.     293\nauguste rodin                    288\nmaqbool fida husain              286\njosef albers                     284\nellsworth kelly                  276\npu ru                            274\ncamille pissarro                 265\nrobert indiana                   265\nlin fengmian                     261\nzhao shao'ang                    260\nalberto giacometti               259\ned ruscha                        258\nrobert mapplethorpe              258\npierre bonnard                   258\njames ensor                      255\nyayoi kusama                     255\nrufino tamayo                    243\nwillem de kooning                240\nman ray                          239\nsalvador dali                    238\nalex katz                        238\nmaurice utrillo                  236\nrichard avedon                   234\nantoni tàpies                    231\npaul signac                      224\narman                            224\ngeorge grosz                     223\njohn piper, c.h.                 222\njamini roy                       220\nclaes oldenburg                  219\njean-michel basquiat             217\npaul klee                        217\nsyed haider raza                 216\ngiorgio de chirico               213\nfrancis bacon                    212\nding yanyong                     211\nfernand léger                    210\narchibald thorburn               207\nwilliam eggleston                207\nniki de saint phalle             204\nedouard vuillard                 202\nutagawa hiroshige                202\nmary fedden, r.a.                202\nalbert goodwin, r.w.s.           202\nhoward hodgkin                   199\ngeorge condo                     196\nrichard prince                   196\nkees van dongen                  189\nrichard diebenkorn               189\ncindy sherman                    189\ngeorg baselitz                   187\ndiane arbus                      185\nName: lot_description, dtype: int64"
     },
     "metadata": {},
     "execution_count": 53
    }
   ],
   "source": [
    "# Select the top 100 artists by number of instances in the dataset\n",
    "MAKER_RE = re.compile(r\"^(?P<maker>[\\w\\s\\.,\\-'']+)\\s\\([\\s0-9bBb\\-\\.]+\\)$\")\n",
    "\n",
    "def strip_date(x):\n",
    "    match = re.search(MAKER_RE, x)\n",
    "    if not match:\n",
    "        return x\n",
    "    return match.group(\"maker\")\n",
    "\n",
    "df_all[\"lot_description\"] = df_all[\"lot_description\"].apply(lambda x: x.lower().strip())\n",
    "df_all = df_all[~df_all.lot_description.isin([\"a\", \"a\", \"none\" \"\", \" \", \"english school, 19th century\", \"after pablo picasso\"])]\n",
    "df_all[\"lot_description\"] = df_all[\"lot_description\"].apply(lambda x: x if x != \"joan miró\" else \"joan miro\")\n",
    "df_all[\"lot_description\"] = df_all[\"lot_description\"].apply(strip_date)\n",
    "top_100 = df_all[\"lot_description\"].value_counts()[:100]\n",
    "top_100"
   ]
  },
  {
   "cell_type": "code",
   "execution_count": null,
   "metadata": {},
   "outputs": [],
   "source": [
    " "
   ]
  }
 ]
}